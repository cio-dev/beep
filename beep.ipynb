{
 "cells": [
  {
   "cell_type": "markdown",
   "metadata": {},
   "source": [
    "TASK 1 for folder hierarchy"
   ]
  },
  {
   "cell_type": "markdown",
   "metadata": {},
   "source": [
    "data-lake-bucket/\n",
    "│\n",
    "├── raw/\n",
    "│   ├── On-premise-Data-Warehouse/\n",
    "│   │   └── Line-of-Business/\n",
    "│   │       └── Database-Name/\n",
    "│   │           └── Table-Name/\n",
    "│   │               └── Partition1/\n",
    "│   │                   └── Partition2/\n",
    "│   │                       └── .../\n",
    "│   │                           └── Data-Files\n",
    "│   └── Projects-Data/\n",
    "│       └── Line-of-Business/\n",
    "│           └── Database-Name/\n",
    "│               └── Table-Name/\n",
    "│                   └── Partition1/\n",
    "│                       └── Partition2/\n",
    "│                           └── .../\n",
    "│                               └── Data-Files\n",
    "│\n",
    "├── transformed/\n",
    "│   ├── On-premise-Data-Warehouse/\n",
    "│   │   └── Line-of-Business/\n",
    "│   │       └── Database-Name/\n",
    "│   │           └── Table-Name/\n",
    "│   │               └── Partition1/\n",
    "│   │                   └── Partition2/\n",
    "│   │                       └── .../\n",
    "│   │                           └── Data-Files\n",
    "│   └── Projects-Data/\n",
    "│       └── Line-of-Business/\n",
    "│           └── Database-Name/\n",
    "│               └── Table-Name/\n",
    "│                   └── Partition1/\n",
    "│                       └── Partition2/\n",
    "│                           └── .../\n",
    "│                               └── Data-Files\n",
    "│\n",
    "├── curated/\n",
    "│   ├── Business-Unit-1/\n",
    "│   │   └── Database-Name/\n",
    "│   │       └── Table-Name/\n",
    "│   │           └── Partition1/\n",
    "│   │               └── Partition2/\n",
    "│   │                   └── .../\n",
    "│   │                       └── Data-Files\n",
    "│   ├── Business-Unit-2/\n",
    "│   │   └── Database-Name/\n",
    "│   │       └── Table-Name/\n",
    "│   │           └── Partition1/\n",
    "│   │               └── Partition2/\n",
    "│   │                   └── .../\n",
    "│   │                       └── Data-Files\n",
    "│   └── ...\n",
    "│\n",
    "└── logs/\n",
    "    ├── s3-access-logs/\n",
    "    ├── cloudwatch-logs/\n",
    "    └── cloudtrail-logs/\n"
   ]
  },
  {
   "cell_type": "markdown",
   "metadata": {},
   "source": [
    "TASK 2: Designing the Fact and Dimension Tables"
   ]
  },
  {
   "cell_type": "code",
   "execution_count": null,
   "metadata": {},
   "outputs": [],
   "source": [
    "Fact Tables:\n",
    "    1. Sales Transactions Fact Table:\n",
    "        Primary Key: Transaction ID\n",
    "        Foreign Keys:\n",
    "            Customer ID (links to Customer dimension)\n",
    "            Product ID (links to Product dimension)\n",
    "            Time ID (links to Time dimension)\n",
    "        Measures: Quantity Sold, Total Sales Amount, Discounts, Taxes, etc.\n",
    "    Financial Summary Fact Table:\n",
    "        Primary Key: Time ID\n",
    "        Measures: Total Revenue, Total Expenses, Net Profit, etc.\n",
    "Dimension Tables:\n",
    "    Customer Dimension Table:\n",
    "        Primary Key: Customer ID    \n",
    "            Attributes: Customer Name, Customer Segment, Customer Location, Contact Information, etc.\n",
    "    Product Dimension Table:\n",
    "        Primary Key: Product ID\n",
    "        Attributes: Product Name, Category, Subcategory, Brand, Price, etc.\n",
    "    Time Dimension Table:\n",
    "        Primary Key: Time ID\n",
    "        Attributes: Date, Day of Week, Month, Quarter, Year, Fiscal Period, etc.\n",
    "Primary and Foreign Keys:\n",
    "    In the Sales Transactions Fact Table:\n",
    "        Primary Key: Transaction ID\n",
    "        Foreign Keys:\n",
    "            Customer ID (from Customer Dimension Table)\n",
    "            Product ID (from Product Dimension Table)\n",
    "            Time ID (from Time Dimension Table)\n",
    "    In the Financial Summary Fact Table:\n",
    "        Primary Key: Time ID (if aggregated over time)"
   ]
  },
  {
   "cell_type": "markdown",
   "metadata": {},
   "source": [
    "task 3 scripting"
   ]
  },
  {
   "cell_type": "code",
   "execution_count": null,
   "metadata": {},
   "outputs": [],
   "source": [
    "import sys\n",
    "from awsglue.transforms import *\n",
    "from awsglue.utils import getResolvedOptions\n",
    "from pyspark.context import SparkContext\n",
    "from awsglue.context import GlueContext\n",
    "from pyspark.sql import SparkSession\n",
    "from pyspark.sql.functions import col, when\n",
    "from pyspark.sql.types import StringType\n",
    "import logging\n",
    "\n"
   ]
  },
  {
   "cell_type": "code",
   "execution_count": null,
   "metadata": {},
   "outputs": [],
   "source": [
    "logging.basicConfig(format='%(levelname)s: %(message)s', level=logging.INFO)\n",
    "logger = logging.getLogger(__name__)"
   ]
  },
  {
   "cell_type": "code",
   "execution_count": null,
   "metadata": {},
   "outputs": [],
   "source": [
    "contx = SparkContext()\n",
    "glueContx = GlueContext(contx)\n",
    "spark = glueContx.spark_session"
   ]
  },
  {
   "cell_type": "code",
   "execution_count": null,
   "metadata": {},
   "outputs": [],
   "source": [
    "args = getResolvedOptions(sys.argv,['JOB'])"
   ]
  },
  {
   "cell_type": "code",
   "execution_count": null,
   "metadata": {},
   "outputs": [],
   "source": [
    "raw_data = 's3:url'\n",
    "refined_data = 's3:url'"
   ]
  },
  {
   "cell_type": "code",
   "execution_count": 35,
   "metadata": {},
   "outputs": [],
   "source": [
    "raw_db = 'raw_db'\n",
    "raw_tb = 'raw_table'\n",
    "refined_db = 'refined_db'\n",
    "refined_table = 'ref_tb'"
   ]
  },
  {
   "cell_type": "code",
   "execution_count": null,
   "metadata": {},
   "outputs": [],
   "source": [
    "partition_col = ['monthly','daily']"
   ]
  },
  {
   "cell_type": "code",
   "execution_count": null,
   "metadata": {},
   "outputs": [],
   "source": [
    "schema_evolution_strat = 'merge'"
   ]
  },
  {
   "cell_type": "code",
   "execution_count": null,
   "metadata": {},
   "outputs": [],
   "source": [
    "try:\n",
    "\n",
    "    raw_dynamic_frame = glueContx.create_dynamic_frame.from_catalog(database=raw_db, table_name = raw_tb)\n",
    "\n",
    "    raw_data_frame = raw_dynamic_frame.toDF()\n",
    "\n",
    "    refined_data_frame = raw_data_frame.select('col1','col2','col3','col4').filter(col('col1')>0)\n",
    "\n",
    "    refined_dynamic_frame = DynamicFrame.fromDF(refined_data_frame,glueContx, 'refined_data')\n",
    "    glueContext.write_dynamic_frame.from_options(\n",
    "        frame=refined_dynamic_frame,\n",
    "        connection_type = 's3',\n",
    "        connection_options = {'path':refined_data},\n",
    "        format='parquet'\n",
    "\n",
    "    )\n",
    "\n",
    "    glueContx.write_dynamic_frame.from_catalog(\n",
    "        frame=refined_dynamic_frame,\n",
    "        database=refined_data,\n",
    "        table_name = refined_table,\n",
    "        transformation_contx = 'refined_data_cat',\n",
    "        additional_ops = {'schema_evolution_strategy':schema_evolution_strat}\n",
    "    )\n",
    "\n",
    "    total_records = refined_data_frame.count()\n",
    "    null_records = refined_data_frame.filter(col('col1').isNull() | col('col2').isNull() | col('col3').isNull() | col('col4').isNull()).count()\n",
    "\n",
    "    if null_records / total_records > 0.8:\n",
    "        raise ValueError('data quality not matched')\n",
    "    \n",
    "    logger.info('job complete')\n",
    "\n",
    "except Exception as e:\n",
    "\n",
    "    logger.error(f'error: {e}')\n",
    "    raise e"
   ]
  }
 ],
 "metadata": {
  "kernelspec": {
   "display_name": "Python 3",
   "language": "python",
   "name": "python3"
  },
  "language_info": {
   "codemirror_mode": {
    "name": "ipython",
    "version": 3
   },
   "file_extension": ".py",
   "mimetype": "text/x-python",
   "name": "python",
   "nbconvert_exporter": "python",
   "pygments_lexer": "ipython3",
   "version": "3.10.13"
  }
 },
 "nbformat": 4,
 "nbformat_minor": 2
}
